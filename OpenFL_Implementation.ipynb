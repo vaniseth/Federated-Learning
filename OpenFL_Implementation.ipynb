{
  "nbformat": 4,
  "nbformat_minor": 0,
  "metadata": {
    "colab": {
      "name": "OpenFL Implementation ",
      "provenance": [],
      "authorship_tag": "ABX9TyM4fnbG++SCbfqWNc8k9Q1i"
    },
    "kernelspec": {
      "name": "python3",
      "display_name": "Python 3"
    },
    "language_info": {
      "name": "python"
    }
  },
  "cells": [
    {
      "cell_type": "markdown",
      "source": [
        "# **Liner Regression with Numpy and OpenFL**"
      ],
      "metadata": {
        "id": "LgKv6X35pIYw"
      }
    },
    {
      "cell_type": "markdown",
      "source": [
        "Requirements:\n",
        "1. Install OpenFL\n",
        "2. Clone the OpenFL repository, it contains infrastrcture configs for this example.\n",
        "3. Change the working directory."
      ],
      "metadata": {
        "id": "ooxlmfWLpO3d"
      }
    },
    {
      "cell_type": "code",
      "execution_count": 1,
      "metadata": {
        "colab": {
          "base_uri": "https://localhost:8080/",
          "height": 1000
        },
        "id": "2Wysb8uco31f",
        "outputId": "3f349865-70f0-45fb-dfa8-9bc5c7fc6cc9"
      },
      "outputs": [
        {
          "output_type": "stream",
          "name": "stdout",
          "text": [
            "Looking in indexes: https://pypi.org/simple, https://us-python.pkg.dev/colab-wheels/public/simple/\n",
            "Collecting openfl\n",
            "  Downloading openfl-1.3-py3-none-any.whl (535 kB)\n",
            "\u001b[K     |████████████████████████████████| 535 kB 5.1 MB/s \n",
            "\u001b[?25hRequirement already satisfied: requests in /usr/local/lib/python3.7/dist-packages (from openfl) (2.23.0)\n",
            "Requirement already satisfied: tensorboard in /usr/local/lib/python3.7/dist-packages (from openfl) (2.8.0)\n",
            "Collecting Click==8.0.1\n",
            "  Downloading click-8.0.1-py3-none-any.whl (97 kB)\n",
            "\u001b[K     |████████████████████████████████| 97 kB 6.7 MB/s \n",
            "\u001b[?25hRequirement already satisfied: ipykernel in /usr/local/lib/python3.7/dist-packages (from openfl) (4.10.1)\n",
            "Collecting dynaconf==3.1.7\n",
            "  Downloading dynaconf-3.1.7-py2.py3-none-any.whl (200 kB)\n",
            "\u001b[K     |████████████████████████████████| 200 kB 64.8 MB/s \n",
            "\u001b[?25hRequirement already satisfied: scikit-learn in /usr/local/lib/python3.7/dist-packages (from openfl) (1.0.2)\n",
            "Requirement already satisfied: cloudpickle in /usr/local/lib/python3.7/dist-packages (from openfl) (1.3.0)\n",
            "Collecting cryptography>=3.4.6\n",
            "  Downloading cryptography-37.0.4-cp36-abi3-manylinux_2_24_x86_64.whl (4.1 MB)\n",
            "\u001b[K     |████████████████████████████████| 4.1 MB 58.1 MB/s \n",
            "\u001b[?25hCollecting PyYAML>=5.4.1\n",
            "  Downloading PyYAML-6.0-cp37-cp37m-manylinux_2_5_x86_64.manylinux1_x86_64.manylinux_2_12_x86_64.manylinux2010_x86_64.whl (596 kB)\n",
            "\u001b[K     |████████████████████████████████| 596 kB 49.4 MB/s \n",
            "\u001b[?25hCollecting grpcio~=1.34.0\n",
            "  Downloading grpcio-1.34.1-cp37-cp37m-manylinux2014_x86_64.whl (4.0 MB)\n",
            "\u001b[K     |████████████████████████████████| 4.0 MB 3.0 MB/s \n",
            "\u001b[?25hCollecting docker\n",
            "  Downloading docker-5.0.3-py2.py3-none-any.whl (146 kB)\n",
            "\u001b[K     |████████████████████████████████| 146 kB 53.4 MB/s \n",
            "\u001b[?25hCollecting grpcio-tools~=1.34.0\n",
            "  Downloading grpcio_tools-1.34.1-cp37-cp37m-manylinux2014_x86_64.whl (2.5 MB)\n",
            "\u001b[K     |████████████████████████████████| 2.5 MB 52.1 MB/s \n",
            "\u001b[?25hRequirement already satisfied: pandas in /usr/local/lib/python3.7/dist-packages (from openfl) (1.3.5)\n",
            "Requirement already satisfied: tqdm in /usr/local/lib/python3.7/dist-packages (from openfl) (4.64.0)\n",
            "Requirement already satisfied: protobuf in /usr/local/lib/python3.7/dist-packages (from openfl) (3.17.3)\n",
            "Collecting jupyterlab\n",
            "  Downloading jupyterlab-3.4.5-py3-none-any.whl (8.8 MB)\n",
            "\u001b[K     |████████████████████████████████| 8.8 MB 39.4 MB/s \n",
            "\u001b[?25hCollecting rich==9.1.0\n",
            "  Downloading rich-9.1.0-py3-none-any.whl (161 kB)\n",
            "\u001b[K     |████████████████████████████████| 161 kB 73.3 MB/s \n",
            "\u001b[?25hCollecting flatten-json\n",
            "  Downloading flatten_json-0.1.13.tar.gz (11 kB)\n",
            "Requirement already satisfied: numpy in /usr/local/lib/python3.7/dist-packages (from openfl) (1.21.6)\n",
            "Collecting tensorboardX\n",
            "  Downloading tensorboardX-2.5.1-py2.py3-none-any.whl (125 kB)\n",
            "\u001b[K     |████████████████████████████████| 125 kB 56.7 MB/s \n",
            "\u001b[?25hRequirement already satisfied: importlib-metadata in /usr/local/lib/python3.7/dist-packages (from Click==8.0.1->openfl) (4.12.0)\n",
            "Collecting colorama<0.5.0,>=0.4.0\n",
            "  Downloading colorama-0.4.5-py2.py3-none-any.whl (16 kB)\n",
            "Requirement already satisfied: pygments<3.0.0,>=2.6.0 in /usr/local/lib/python3.7/dist-packages (from rich==9.1.0->openfl) (2.6.1)\n",
            "Collecting typing-extensions<4.0.0,>=3.7.4\n",
            "  Downloading typing_extensions-3.10.0.2-py3-none-any.whl (26 kB)\n",
            "Collecting commonmark<0.10.0,>=0.9.0\n",
            "  Downloading commonmark-0.9.1-py2.py3-none-any.whl (51 kB)\n",
            "\u001b[K     |████████████████████████████████| 51 kB 8.0 MB/s \n",
            "\u001b[?25hRequirement already satisfied: cffi>=1.12 in /usr/local/lib/python3.7/dist-packages (from cryptography>=3.4.6->openfl) (1.15.1)\n",
            "Requirement already satisfied: pycparser in /usr/local/lib/python3.7/dist-packages (from cffi>=1.12->cryptography>=3.4.6->openfl) (2.21)\n",
            "Requirement already satisfied: six>=1.5.2 in /usr/local/lib/python3.7/dist-packages (from grpcio~=1.34.0->openfl) (1.15.0)\n",
            "Requirement already satisfied: setuptools in /usr/local/lib/python3.7/dist-packages (from grpcio-tools~=1.34.0->openfl) (57.4.0)\n",
            "Collecting websocket-client>=0.32.0\n",
            "  Downloading websocket_client-1.3.3-py3-none-any.whl (54 kB)\n",
            "\u001b[K     |████████████████████████████████| 54 kB 2.7 MB/s \n",
            "\u001b[?25hRequirement already satisfied: idna<3,>=2.5 in /usr/local/lib/python3.7/dist-packages (from requests->openfl) (2.10)\n",
            "Requirement already satisfied: certifi>=2017.4.17 in /usr/local/lib/python3.7/dist-packages (from requests->openfl) (2022.6.15)\n",
            "Requirement already satisfied: chardet<4,>=3.0.2 in /usr/local/lib/python3.7/dist-packages (from requests->openfl) (3.0.4)\n",
            "Requirement already satisfied: urllib3!=1.25.0,!=1.25.1,<1.26,>=1.21.1 in /usr/local/lib/python3.7/dist-packages (from requests->openfl) (1.24.3)\n",
            "Requirement already satisfied: zipp>=0.5 in /usr/local/lib/python3.7/dist-packages (from importlib-metadata->Click==8.0.1->openfl) (3.8.1)\n",
            "Requirement already satisfied: traitlets>=4.1.0 in /usr/local/lib/python3.7/dist-packages (from ipykernel->openfl) (5.1.1)\n",
            "Requirement already satisfied: tornado>=4.0 in /usr/local/lib/python3.7/dist-packages (from ipykernel->openfl) (5.1.1)\n",
            "Requirement already satisfied: jupyter-client in /usr/local/lib/python3.7/dist-packages (from ipykernel->openfl) (5.3.5)\n",
            "Requirement already satisfied: ipython>=4.0.0 in /usr/local/lib/python3.7/dist-packages (from ipykernel->openfl) (5.5.0)\n",
            "Requirement already satisfied: decorator in /usr/local/lib/python3.7/dist-packages (from ipython>=4.0.0->ipykernel->openfl) (4.4.2)\n",
            "Requirement already satisfied: pexpect in /usr/local/lib/python3.7/dist-packages (from ipython>=4.0.0->ipykernel->openfl) (4.8.0)\n",
            "Requirement already satisfied: simplegeneric>0.8 in /usr/local/lib/python3.7/dist-packages (from ipython>=4.0.0->ipykernel->openfl) (0.8.1)\n",
            "Requirement already satisfied: prompt-toolkit<2.0.0,>=1.0.4 in /usr/local/lib/python3.7/dist-packages (from ipython>=4.0.0->ipykernel->openfl) (1.0.18)\n",
            "Requirement already satisfied: pickleshare in /usr/local/lib/python3.7/dist-packages (from ipython>=4.0.0->ipykernel->openfl) (0.7.5)\n",
            "Requirement already satisfied: wcwidth in /usr/local/lib/python3.7/dist-packages (from prompt-toolkit<2.0.0,>=1.0.4->ipython>=4.0.0->ipykernel->openfl) (0.2.5)\n",
            "Requirement already satisfied: python-dateutil>=2.1 in /usr/local/lib/python3.7/dist-packages (from jupyter-client->ipykernel->openfl) (2.8.2)\n",
            "Requirement already satisfied: pyzmq>=13 in /usr/local/lib/python3.7/dist-packages (from jupyter-client->ipykernel->openfl) (23.2.0)\n",
            "Requirement already satisfied: jupyter-core>=4.6.0 in /usr/local/lib/python3.7/dist-packages (from jupyter-client->ipykernel->openfl) (4.11.1)\n",
            "Requirement already satisfied: notebook<7 in /usr/local/lib/python3.7/dist-packages (from jupyterlab->openfl) (5.3.1)\n",
            "Collecting jupyter-server~=1.16\n",
            "  Downloading jupyter_server-1.18.1-py3-none-any.whl (344 kB)\n",
            "\u001b[K     |████████████████████████████████| 344 kB 51.4 MB/s \n",
            "\u001b[?25hCollecting nbclassic\n",
            "  Downloading nbclassic-0.4.3-py3-none-any.whl (9.7 MB)\n",
            "\u001b[K     |████████████████████████████████| 9.7 MB 48.5 MB/s \n",
            "\u001b[?25hRequirement already satisfied: packaging in /usr/local/lib/python3.7/dist-packages (from jupyterlab->openfl) (21.3)\n",
            "Requirement already satisfied: jinja2>=2.1 in /usr/local/lib/python3.7/dist-packages (from jupyterlab->openfl) (2.11.3)\n",
            "Collecting jupyterlab-server~=2.10\n",
            "  Downloading jupyterlab_server-2.15.0-py3-none-any.whl (54 kB)\n",
            "\u001b[K     |████████████████████████████████| 54 kB 3.0 MB/s \n",
            "\u001b[?25hCollecting tornado>=4.0\n",
            "  Downloading tornado-6.2-cp37-abi3-manylinux_2_5_x86_64.manylinux1_x86_64.manylinux_2_17_x86_64.manylinux2014_x86_64.whl (423 kB)\n",
            "\u001b[K     |████████████████████████████████| 423 kB 58.9 MB/s \n",
            "\u001b[?25hRequirement already satisfied: MarkupSafe>=0.23 in /usr/local/lib/python3.7/dist-packages (from jinja2>=2.1->jupyterlab->openfl) (2.0.1)\n",
            "Requirement already satisfied: argon2-cffi in /usr/local/lib/python3.7/dist-packages (from jupyter-server~=1.16->jupyterlab->openfl) (21.3.0)\n",
            "Requirement already satisfied: nbformat>=5.2.0 in /usr/local/lib/python3.7/dist-packages (from jupyter-server~=1.16->jupyterlab->openfl) (5.4.0)\n",
            "Requirement already satisfied: terminado>=0.8.3 in /usr/local/lib/python3.7/dist-packages (from jupyter-server~=1.16->jupyterlab->openfl) (0.13.3)\n",
            "Collecting anyio<4,>=3.1.0\n",
            "  Downloading anyio-3.6.1-py3-none-any.whl (80 kB)\n",
            "\u001b[K     |████████████████████████████████| 80 kB 8.6 MB/s \n",
            "\u001b[?25hCollecting nbconvert>=6.4.4\n",
            "  Downloading nbconvert-6.5.3-py3-none-any.whl (563 kB)\n",
            "\u001b[K     |████████████████████████████████| 563 kB 41.6 MB/s \n",
            "\u001b[?25hRequirement already satisfied: prometheus-client in /usr/local/lib/python3.7/dist-packages (from jupyter-server~=1.16->jupyterlab->openfl) (0.14.1)\n",
            "Collecting jupyter-client\n",
            "  Downloading jupyter_client-7.3.4-py3-none-any.whl (132 kB)\n",
            "\u001b[K     |████████████████████████████████| 132 kB 53.2 MB/s \n",
            "\u001b[?25hRequirement already satisfied: Send2Trash in /usr/local/lib/python3.7/dist-packages (from jupyter-server~=1.16->jupyterlab->openfl) (1.8.0)\n",
            "Collecting sniffio>=1.1\n",
            "  Downloading sniffio-1.2.0-py3-none-any.whl (10 kB)\n",
            "Requirement already satisfied: nest-asyncio>=1.5.4 in /usr/local/lib/python3.7/dist-packages (from jupyter-client->ipykernel->openfl) (1.5.5)\n",
            "Requirement already satisfied: entrypoints in /usr/local/lib/python3.7/dist-packages (from jupyter-client->ipykernel->openfl) (0.4)\n",
            "Collecting jinja2>=2.1\n",
            "  Downloading Jinja2-3.1.2-py3-none-any.whl (133 kB)\n",
            "\u001b[K     |████████████████████████████████| 133 kB 61.1 MB/s \n",
            "\u001b[?25hCollecting json5\n",
            "  Downloading json5-0.9.9-py2.py3-none-any.whl (18 kB)\n",
            "Requirement already satisfied: babel in /usr/local/lib/python3.7/dist-packages (from jupyterlab-server~=2.10->jupyterlab->openfl) (2.10.3)\n",
            "Requirement already satisfied: jsonschema>=3.0.1 in /usr/local/lib/python3.7/dist-packages (from jupyterlab-server~=2.10->jupyterlab->openfl) (4.3.3)\n",
            "Requirement already satisfied: importlib-resources>=1.4.0 in /usr/local/lib/python3.7/dist-packages (from jsonschema>=3.0.1->jupyterlab-server~=2.10->jupyterlab->openfl) (5.9.0)\n",
            "Requirement already satisfied: pyrsistent!=0.17.0,!=0.17.1,!=0.17.2,>=0.14.0 in /usr/local/lib/python3.7/dist-packages (from jsonschema>=3.0.1->jupyterlab-server~=2.10->jupyterlab->openfl) (0.18.1)\n",
            "Requirement already satisfied: attrs>=17.4.0 in /usr/local/lib/python3.7/dist-packages (from jsonschema>=3.0.1->jupyterlab-server~=2.10->jupyterlab->openfl) (22.1.0)\n",
            "Requirement already satisfied: beautifulsoup4 in /usr/local/lib/python3.7/dist-packages (from nbconvert>=6.4.4->jupyter-server~=1.16->jupyterlab->openfl) (4.6.3)\n",
            "Requirement already satisfied: lxml in /usr/local/lib/python3.7/dist-packages (from nbconvert>=6.4.4->jupyter-server~=1.16->jupyterlab->openfl) (4.9.1)\n",
            "Requirement already satisfied: mistune<2,>=0.8.1 in /usr/local/lib/python3.7/dist-packages (from nbconvert>=6.4.4->jupyter-server~=1.16->jupyterlab->openfl) (0.8.4)\n",
            "Requirement already satisfied: nbclient>=0.5.0 in /usr/local/lib/python3.7/dist-packages (from nbconvert>=6.4.4->jupyter-server~=1.16->jupyterlab->openfl) (0.6.6)\n",
            "Requirement already satisfied: pandocfilters>=1.4.1 in /usr/local/lib/python3.7/dist-packages (from nbconvert>=6.4.4->jupyter-server~=1.16->jupyterlab->openfl) (1.5.0)\n",
            "Requirement already satisfied: tinycss2 in /usr/local/lib/python3.7/dist-packages (from nbconvert>=6.4.4->jupyter-server~=1.16->jupyterlab->openfl) (1.1.1)\n",
            "Requirement already satisfied: defusedxml in /usr/local/lib/python3.7/dist-packages (from nbconvert>=6.4.4->jupyter-server~=1.16->jupyterlab->openfl) (0.7.1)\n",
            "Requirement already satisfied: bleach in /usr/local/lib/python3.7/dist-packages (from nbconvert>=6.4.4->jupyter-server~=1.16->jupyterlab->openfl) (5.0.1)\n",
            "Requirement already satisfied: jupyterlab-pygments in /usr/local/lib/python3.7/dist-packages (from nbconvert>=6.4.4->jupyter-server~=1.16->jupyterlab->openfl) (0.2.2)\n",
            "Collecting traitlets>=4.1.0\n",
            "  Downloading traitlets-5.3.0-py3-none-any.whl (106 kB)\n",
            "\u001b[K     |████████████████████████████████| 106 kB 55.6 MB/s \n",
            "\u001b[?25hRequirement already satisfied: fastjsonschema in /usr/local/lib/python3.7/dist-packages (from nbformat>=5.2.0->jupyter-server~=1.16->jupyterlab->openfl) (2.16.1)\n",
            "Requirement already satisfied: ipython-genutils in /usr/local/lib/python3.7/dist-packages (from notebook<7->jupyterlab->openfl) (0.2.0)\n",
            "Requirement already satisfied: ptyprocess in /usr/local/lib/python3.7/dist-packages (from terminado>=0.8.3->jupyter-server~=1.16->jupyterlab->openfl) (0.7.0)\n",
            "Requirement already satisfied: argon2-cffi-bindings in /usr/local/lib/python3.7/dist-packages (from argon2-cffi->jupyter-server~=1.16->jupyterlab->openfl) (21.2.0)\n",
            "Requirement already satisfied: pytz>=2015.7 in /usr/local/lib/python3.7/dist-packages (from babel->jupyterlab-server~=2.10->jupyterlab->openfl) (2022.1)\n",
            "Requirement already satisfied: webencodings in /usr/local/lib/python3.7/dist-packages (from bleach->nbconvert>=6.4.4->jupyter-server~=1.16->jupyterlab->openfl) (0.5.1)\n",
            "Collecting notebook-shim>=0.1.0\n",
            "  Downloading notebook_shim-0.1.0-py3-none-any.whl (13 kB)\n",
            "Requirement already satisfied: pyparsing!=3.0.5,>=2.0.2 in /usr/local/lib/python3.7/dist-packages (from packaging->jupyterlab->openfl) (3.0.9)\n",
            "Requirement already satisfied: scipy>=1.1.0 in /usr/local/lib/python3.7/dist-packages (from scikit-learn->openfl) (1.7.3)\n",
            "Requirement already satisfied: joblib>=0.11 in /usr/local/lib/python3.7/dist-packages (from scikit-learn->openfl) (1.1.0)\n",
            "Requirement already satisfied: threadpoolctl>=2.0.0 in /usr/local/lib/python3.7/dist-packages (from scikit-learn->openfl) (3.1.0)\n",
            "Requirement already satisfied: markdown>=2.6.8 in /usr/local/lib/python3.7/dist-packages (from tensorboard->openfl) (3.4.1)\n",
            "Requirement already satisfied: wheel>=0.26 in /usr/local/lib/python3.7/dist-packages (from tensorboard->openfl) (0.37.1)\n",
            "Requirement already satisfied: google-auth<3,>=1.6.3 in /usr/local/lib/python3.7/dist-packages (from tensorboard->openfl) (1.35.0)\n",
            "Requirement already satisfied: tensorboard-data-server<0.7.0,>=0.6.0 in /usr/local/lib/python3.7/dist-packages (from tensorboard->openfl) (0.6.1)\n",
            "Requirement already satisfied: absl-py>=0.4 in /usr/local/lib/python3.7/dist-packages (from tensorboard->openfl) (1.2.0)\n",
            "Requirement already satisfied: google-auth-oauthlib<0.5,>=0.4.1 in /usr/local/lib/python3.7/dist-packages (from tensorboard->openfl) (0.4.6)\n",
            "Requirement already satisfied: tensorboard-plugin-wit>=1.6.0 in /usr/local/lib/python3.7/dist-packages (from tensorboard->openfl) (1.8.1)\n",
            "Requirement already satisfied: werkzeug>=0.11.15 in /usr/local/lib/python3.7/dist-packages (from tensorboard->openfl) (1.0.1)\n",
            "Requirement already satisfied: cachetools<5.0,>=2.0.0 in /usr/local/lib/python3.7/dist-packages (from google-auth<3,>=1.6.3->tensorboard->openfl) (4.2.4)\n",
            "Requirement already satisfied: pyasn1-modules>=0.2.1 in /usr/local/lib/python3.7/dist-packages (from google-auth<3,>=1.6.3->tensorboard->openfl) (0.2.8)\n",
            "Requirement already satisfied: rsa<5,>=3.1.4 in /usr/local/lib/python3.7/dist-packages (from google-auth<3,>=1.6.3->tensorboard->openfl) (4.9)\n",
            "Requirement already satisfied: requests-oauthlib>=0.7.0 in /usr/local/lib/python3.7/dist-packages (from google-auth-oauthlib<0.5,>=0.4.1->tensorboard->openfl) (1.3.1)\n",
            "Requirement already satisfied: pyasn1<0.5.0,>=0.4.6 in /usr/local/lib/python3.7/dist-packages (from pyasn1-modules>=0.2.1->google-auth<3,>=1.6.3->tensorboard->openfl) (0.4.8)\n",
            "Requirement already satisfied: oauthlib>=3.0.0 in /usr/local/lib/python3.7/dist-packages (from requests-oauthlib>=0.7.0->google-auth-oauthlib<0.5,>=0.4.1->tensorboard->openfl) (3.2.0)\n",
            "Building wheels for collected packages: flatten-json\n",
            "  Building wheel for flatten-json (setup.py) ... \u001b[?25l\u001b[?25hdone\n",
            "  Created wheel for flatten-json: filename=flatten_json-0.1.13-py3-none-any.whl size=7979 sha256=c332609bada9cb349c79f3c4e078dc1006d729be664afae9c09deeaa436f127f\n",
            "  Stored in directory: /root/.cache/pip/wheels/e6/b3/2a/beb2ceb72d11bf335f9c2f87aae26981f6744f3fc885cde665\n",
            "Successfully built flatten-json\n",
            "Installing collected packages: typing-extensions, traitlets, tornado, jupyter-client, sniffio, jinja2, websocket-client, nbconvert, anyio, jupyter-server, notebook-shim, json5, nbclassic, jupyterlab-server, grpcio, commonmark, colorama, tensorboardX, rich, PyYAML, jupyterlab, grpcio-tools, flatten-json, dynaconf, docker, cryptography, Click, openfl\n",
            "  Attempting uninstall: typing-extensions\n",
            "    Found existing installation: typing-extensions 4.1.1\n",
            "    Uninstalling typing-extensions-4.1.1:\n",
            "      Successfully uninstalled typing-extensions-4.1.1\n",
            "  Attempting uninstall: traitlets\n",
            "    Found existing installation: traitlets 5.1.1\n",
            "    Uninstalling traitlets-5.1.1:\n",
            "      Successfully uninstalled traitlets-5.1.1\n",
            "  Attempting uninstall: tornado\n",
            "    Found existing installation: tornado 5.1.1\n",
            "    Uninstalling tornado-5.1.1:\n",
            "      Successfully uninstalled tornado-5.1.1\n",
            "  Attempting uninstall: jupyter-client\n",
            "    Found existing installation: jupyter-client 5.3.5\n",
            "    Uninstalling jupyter-client-5.3.5:\n",
            "      Successfully uninstalled jupyter-client-5.3.5\n",
            "  Attempting uninstall: jinja2\n",
            "    Found existing installation: Jinja2 2.11.3\n",
            "    Uninstalling Jinja2-2.11.3:\n",
            "      Successfully uninstalled Jinja2-2.11.3\n",
            "  Attempting uninstall: nbconvert\n",
            "    Found existing installation: nbconvert 5.6.1\n",
            "    Uninstalling nbconvert-5.6.1:\n",
            "      Successfully uninstalled nbconvert-5.6.1\n",
            "  Attempting uninstall: grpcio\n",
            "    Found existing installation: grpcio 1.47.0\n",
            "    Uninstalling grpcio-1.47.0:\n",
            "      Successfully uninstalled grpcio-1.47.0\n",
            "  Attempting uninstall: PyYAML\n",
            "    Found existing installation: PyYAML 3.13\n",
            "    Uninstalling PyYAML-3.13:\n",
            "      Successfully uninstalled PyYAML-3.13\n",
            "  Attempting uninstall: Click\n",
            "    Found existing installation: click 7.1.2\n",
            "    Uninstalling click-7.1.2:\n",
            "      Successfully uninstalled click-7.1.2\n",
            "\u001b[31mERROR: pip's dependency resolver does not currently take into account all the packages that are installed. This behaviour is the source of the following dependency conflicts.\n",
            "google-colab 1.0.0 requires tornado~=5.1.0, but you have tornado 6.2 which is incompatible.\n",
            "flask 1.1.4 requires click<8.0,>=5.1, but you have click 8.0.1 which is incompatible.\n",
            "flask 1.1.4 requires Jinja2<3.0,>=2.10.1, but you have jinja2 3.1.2 which is incompatible.\u001b[0m\n",
            "Successfully installed Click-8.0.1 PyYAML-6.0 anyio-3.6.1 colorama-0.4.5 commonmark-0.9.1 cryptography-37.0.4 docker-5.0.3 dynaconf-3.1.7 flatten-json-0.1.13 grpcio-1.34.1 grpcio-tools-1.34.1 jinja2-3.1.2 json5-0.9.9 jupyter-client-7.3.4 jupyter-server-1.18.1 jupyterlab-3.4.5 jupyterlab-server-2.15.0 nbclassic-0.4.3 nbconvert-6.5.3 notebook-shim-0.1.0 openfl-1.3 rich-9.1.0 sniffio-1.2.0 tensorboardX-2.5.1 tornado-6.2 traitlets-5.3.0 typing-extensions-3.10.0.2 websocket-client-1.3.3\n"
          ]
        },
        {
          "output_type": "display_data",
          "data": {
            "application/vnd.colab-display-data+json": {
              "pip_warning": {
                "packages": [
                  "tornado",
                  "typing_extensions"
                ]
              }
            }
          },
          "metadata": {}
        },
        {
          "output_type": "stream",
          "name": "stdout",
          "text": [
            "Cloning into 'openfl'...\n",
            "remote: Enumerating objects: 4827, done.\u001b[K\n",
            "remote: Counting objects: 100% (236/236), done.\u001b[K\n",
            "remote: Compressing objects: 100% (197/197), done.\u001b[K\n",
            "remote: Total 4827 (delta 101), reused 122 (delta 31), pack-reused 4591\u001b[K\n",
            "Receiving objects: 100% (4827/4827), 118.29 MiB | 36.03 MiB/s, done.\n",
            "Resolving deltas: 100% (2769/2769), done.\n"
          ]
        }
      ],
      "source": [
        "!pip install openfl\n",
        "!git clone https://github.com/intel/openfl.git"
      ]
    },
    {
      "cell_type": "code",
      "source": [
        "import os\n",
        "from time import sleep\n",
        "os.chdir ('./openfl/openfl-tutorials/interactive_api/numpy_linear_regression/workspace')\n",
        "\n",
        "## Changing the work directory"
      ],
      "metadata": {
        "id": "lJPlMSRqpsR2"
      },
      "execution_count": 2,
      "outputs": []
    },
    {
      "cell_type": "code",
      "source": [
        "!pip install -r requirements.txt"
      ],
      "metadata": {
        "colab": {
          "base_uri": "https://localhost:8080/"
        },
        "id": "1-3HQ9kIo_vA",
        "outputId": "bfa904d3-ef9d-4234-e9a5-7ba3f505068c"
      },
      "execution_count": 3,
      "outputs": [
        {
          "output_type": "stream",
          "name": "stdout",
          "text": [
            "Looking in indexes: https://pypi.org/simple, https://us-python.pkg.dev/colab-wheels/public/simple/\n",
            "Collecting openfl==1.2.1\n",
            "  Downloading openfl-1.2.1-py3-none-any.whl (420 kB)\n",
            "\u001b[K     |████████████████████████████████| 420 kB 5.2 MB/s \n",
            "\u001b[?25hRequirement already satisfied: numpy in /usr/local/lib/python3.7/dist-packages (from -r requirements.txt (line 2)) (1.21.6)\n",
            "Requirement already satisfied: jupyterlab in /usr/local/lib/python3.7/dist-packages (from -r requirements.txt (line 3)) (3.4.5)\n",
            "Requirement already satisfied: matplotlib in /usr/local/lib/python3.7/dist-packages (from -r requirements.txt (line 4)) (3.2.2)\n",
            "Requirement already satisfied: grpcio~=1.34.0 in /usr/local/lib/python3.7/dist-packages (from openfl==1.2.1->-r requirements.txt (line 1)) (1.34.1)\n",
            "Requirement already satisfied: cryptography>=3.4.6 in /usr/local/lib/python3.7/dist-packages (from openfl==1.2.1->-r requirements.txt (line 1)) (37.0.4)\n",
            "Requirement already satisfied: flatten-json in /usr/local/lib/python3.7/dist-packages (from openfl==1.2.1->-r requirements.txt (line 1)) (0.1.13)\n",
            "Requirement already satisfied: pandas in /usr/local/lib/python3.7/dist-packages (from openfl==1.2.1->-r requirements.txt (line 1)) (1.3.5)\n",
            "Requirement already satisfied: tqdm in /usr/local/lib/python3.7/dist-packages (from openfl==1.2.1->-r requirements.txt (line 1)) (4.64.0)\n",
            "Requirement already satisfied: tensorboardX in /usr/local/lib/python3.7/dist-packages (from openfl==1.2.1->-r requirements.txt (line 1)) (2.5.1)\n",
            "Requirement already satisfied: cloudpickle in /usr/local/lib/python3.7/dist-packages (from openfl==1.2.1->-r requirements.txt (line 1)) (1.3.0)\n",
            "Requirement already satisfied: docker in /usr/local/lib/python3.7/dist-packages (from openfl==1.2.1->-r requirements.txt (line 1)) (5.0.3)\n",
            "Requirement already satisfied: tensorboard in /usr/local/lib/python3.7/dist-packages (from openfl==1.2.1->-r requirements.txt (line 1)) (2.8.0)\n",
            "Requirement already satisfied: protobuf in /usr/local/lib/python3.7/dist-packages (from openfl==1.2.1->-r requirements.txt (line 1)) (3.17.3)\n",
            "Requirement already satisfied: jupyter in /usr/local/lib/python3.7/dist-packages (from openfl==1.2.1->-r requirements.txt (line 1)) (1.0.0)\n",
            "Requirement already satisfied: ipykernel in /usr/local/lib/python3.7/dist-packages (from openfl==1.2.1->-r requirements.txt (line 1)) (4.10.1)\n",
            "Requirement already satisfied: requests in /usr/local/lib/python3.7/dist-packages (from openfl==1.2.1->-r requirements.txt (line 1)) (2.23.0)\n",
            "Requirement already satisfied: scikit-learn in /usr/local/lib/python3.7/dist-packages (from openfl==1.2.1->-r requirements.txt (line 1)) (1.0.2)\n",
            "Requirement already satisfied: grpcio-tools~=1.34.0 in /usr/local/lib/python3.7/dist-packages (from openfl==1.2.1->-r requirements.txt (line 1)) (1.34.1)\n",
            "Requirement already satisfied: Click==8.0.1 in /usr/local/lib/python3.7/dist-packages (from openfl==1.2.1->-r requirements.txt (line 1)) (8.0.1)\n",
            "Requirement already satisfied: PyYAML>=5.4.1 in /usr/local/lib/python3.7/dist-packages (from openfl==1.2.1->-r requirements.txt (line 1)) (6.0)\n",
            "Requirement already satisfied: rich==9.1.0 in /usr/local/lib/python3.7/dist-packages (from openfl==1.2.1->-r requirements.txt (line 1)) (9.1.0)\n",
            "Requirement already satisfied: importlib-metadata in /usr/local/lib/python3.7/dist-packages (from Click==8.0.1->openfl==1.2.1->-r requirements.txt (line 1)) (4.12.0)\n",
            "Requirement already satisfied: commonmark<0.10.0,>=0.9.0 in /usr/local/lib/python3.7/dist-packages (from rich==9.1.0->openfl==1.2.1->-r requirements.txt (line 1)) (0.9.1)\n",
            "Requirement already satisfied: colorama<0.5.0,>=0.4.0 in /usr/local/lib/python3.7/dist-packages (from rich==9.1.0->openfl==1.2.1->-r requirements.txt (line 1)) (0.4.5)\n",
            "Requirement already satisfied: pygments<3.0.0,>=2.6.0 in /usr/local/lib/python3.7/dist-packages (from rich==9.1.0->openfl==1.2.1->-r requirements.txt (line 1)) (2.6.1)\n",
            "Requirement already satisfied: typing-extensions<4.0.0,>=3.7.4 in /usr/local/lib/python3.7/dist-packages (from rich==9.1.0->openfl==1.2.1->-r requirements.txt (line 1)) (3.10.0.2)\n",
            "Requirement already satisfied: cffi>=1.12 in /usr/local/lib/python3.7/dist-packages (from cryptography>=3.4.6->openfl==1.2.1->-r requirements.txt (line 1)) (1.15.1)\n",
            "Requirement already satisfied: pycparser in /usr/local/lib/python3.7/dist-packages (from cffi>=1.12->cryptography>=3.4.6->openfl==1.2.1->-r requirements.txt (line 1)) (2.21)\n",
            "Requirement already satisfied: six>=1.5.2 in /usr/local/lib/python3.7/dist-packages (from grpcio~=1.34.0->openfl==1.2.1->-r requirements.txt (line 1)) (1.15.0)\n",
            "Requirement already satisfied: setuptools in /usr/local/lib/python3.7/dist-packages (from grpcio-tools~=1.34.0->openfl==1.2.1->-r requirements.txt (line 1)) (57.4.0)\n",
            "Requirement already satisfied: jinja2>=2.1 in /usr/local/lib/python3.7/dist-packages (from jupyterlab->-r requirements.txt (line 3)) (3.1.2)\n",
            "Requirement already satisfied: ipython in /usr/local/lib/python3.7/dist-packages (from jupyterlab->-r requirements.txt (line 3)) (5.5.0)\n",
            "Requirement already satisfied: jupyter-server~=1.16 in /usr/local/lib/python3.7/dist-packages (from jupyterlab->-r requirements.txt (line 3)) (1.18.1)\n",
            "Requirement already satisfied: notebook<7 in /usr/local/lib/python3.7/dist-packages (from jupyterlab->-r requirements.txt (line 3)) (5.3.1)\n",
            "Requirement already satisfied: packaging in /usr/local/lib/python3.7/dist-packages (from jupyterlab->-r requirements.txt (line 3)) (21.3)\n",
            "Requirement already satisfied: jupyter-core in /usr/local/lib/python3.7/dist-packages (from jupyterlab->-r requirements.txt (line 3)) (4.11.1)\n",
            "Requirement already satisfied: tornado>=6.1.0 in /usr/local/lib/python3.7/dist-packages (from jupyterlab->-r requirements.txt (line 3)) (6.2)\n",
            "Requirement already satisfied: jupyterlab-server~=2.10 in /usr/local/lib/python3.7/dist-packages (from jupyterlab->-r requirements.txt (line 3)) (2.15.0)\n",
            "Requirement already satisfied: nbclassic in /usr/local/lib/python3.7/dist-packages (from jupyterlab->-r requirements.txt (line 3)) (0.4.3)\n",
            "Requirement already satisfied: MarkupSafe>=2.0 in /usr/local/lib/python3.7/dist-packages (from jinja2>=2.1->jupyterlab->-r requirements.txt (line 3)) (2.0.1)\n",
            "Requirement already satisfied: anyio<4,>=3.1.0 in /usr/local/lib/python3.7/dist-packages (from jupyter-server~=1.16->jupyterlab->-r requirements.txt (line 3)) (3.6.1)\n",
            "Requirement already satisfied: jupyter-client>=6.1.12 in /usr/local/lib/python3.7/dist-packages (from jupyter-server~=1.16->jupyterlab->-r requirements.txt (line 3)) (7.3.4)\n",
            "Requirement already satisfied: argon2-cffi in /usr/local/lib/python3.7/dist-packages (from jupyter-server~=1.16->jupyterlab->-r requirements.txt (line 3)) (21.3.0)\n",
            "Requirement already satisfied: nbformat>=5.2.0 in /usr/local/lib/python3.7/dist-packages (from jupyter-server~=1.16->jupyterlab->-r requirements.txt (line 3)) (5.4.0)\n",
            "Requirement already satisfied: terminado>=0.8.3 in /usr/local/lib/python3.7/dist-packages (from jupyter-server~=1.16->jupyterlab->-r requirements.txt (line 3)) (0.13.3)\n",
            "Requirement already satisfied: prometheus-client in /usr/local/lib/python3.7/dist-packages (from jupyter-server~=1.16->jupyterlab->-r requirements.txt (line 3)) (0.14.1)\n",
            "Requirement already satisfied: nbconvert>=6.4.4 in /usr/local/lib/python3.7/dist-packages (from jupyter-server~=1.16->jupyterlab->-r requirements.txt (line 3)) (6.5.3)\n",
            "Requirement already satisfied: websocket-client in /usr/local/lib/python3.7/dist-packages (from jupyter-server~=1.16->jupyterlab->-r requirements.txt (line 3)) (1.3.3)\n",
            "Requirement already satisfied: pyzmq>=17 in /usr/local/lib/python3.7/dist-packages (from jupyter-server~=1.16->jupyterlab->-r requirements.txt (line 3)) (23.2.0)\n",
            "Requirement already satisfied: traitlets>=5.1 in /usr/local/lib/python3.7/dist-packages (from jupyter-server~=1.16->jupyterlab->-r requirements.txt (line 3)) (5.3.0)\n",
            "Requirement already satisfied: Send2Trash in /usr/local/lib/python3.7/dist-packages (from jupyter-server~=1.16->jupyterlab->-r requirements.txt (line 3)) (1.8.0)\n",
            "Requirement already satisfied: idna>=2.8 in /usr/local/lib/python3.7/dist-packages (from anyio<4,>=3.1.0->jupyter-server~=1.16->jupyterlab->-r requirements.txt (line 3)) (2.10)\n",
            "Requirement already satisfied: sniffio>=1.1 in /usr/local/lib/python3.7/dist-packages (from anyio<4,>=3.1.0->jupyter-server~=1.16->jupyterlab->-r requirements.txt (line 3)) (1.2.0)\n",
            "Requirement already satisfied: python-dateutil>=2.8.2 in /usr/local/lib/python3.7/dist-packages (from jupyter-client>=6.1.12->jupyter-server~=1.16->jupyterlab->-r requirements.txt (line 3)) (2.8.2)\n",
            "Requirement already satisfied: entrypoints in /usr/local/lib/python3.7/dist-packages (from jupyter-client>=6.1.12->jupyter-server~=1.16->jupyterlab->-r requirements.txt (line 3)) (0.4)\n",
            "Requirement already satisfied: nest-asyncio>=1.5.4 in /usr/local/lib/python3.7/dist-packages (from jupyter-client>=6.1.12->jupyter-server~=1.16->jupyterlab->-r requirements.txt (line 3)) (1.5.5)\n",
            "Requirement already satisfied: jsonschema>=3.0.1 in /usr/local/lib/python3.7/dist-packages (from jupyterlab-server~=2.10->jupyterlab->-r requirements.txt (line 3)) (4.3.3)\n",
            "Requirement already satisfied: json5 in /usr/local/lib/python3.7/dist-packages (from jupyterlab-server~=2.10->jupyterlab->-r requirements.txt (line 3)) (0.9.9)\n",
            "Requirement already satisfied: babel in /usr/local/lib/python3.7/dist-packages (from jupyterlab-server~=2.10->jupyterlab->-r requirements.txt (line 3)) (2.10.3)\n",
            "Requirement already satisfied: zipp>=0.5 in /usr/local/lib/python3.7/dist-packages (from importlib-metadata->Click==8.0.1->openfl==1.2.1->-r requirements.txt (line 1)) (3.8.1)\n",
            "Requirement already satisfied: attrs>=17.4.0 in /usr/local/lib/python3.7/dist-packages (from jsonschema>=3.0.1->jupyterlab-server~=2.10->jupyterlab->-r requirements.txt (line 3)) (22.1.0)\n",
            "Requirement already satisfied: pyrsistent!=0.17.0,!=0.17.1,!=0.17.2,>=0.14.0 in /usr/local/lib/python3.7/dist-packages (from jsonschema>=3.0.1->jupyterlab-server~=2.10->jupyterlab->-r requirements.txt (line 3)) (0.18.1)\n",
            "Requirement already satisfied: importlib-resources>=1.4.0 in /usr/local/lib/python3.7/dist-packages (from jsonschema>=3.0.1->jupyterlab-server~=2.10->jupyterlab->-r requirements.txt (line 3)) (5.9.0)\n",
            "Requirement already satisfied: lxml in /usr/local/lib/python3.7/dist-packages (from nbconvert>=6.4.4->jupyter-server~=1.16->jupyterlab->-r requirements.txt (line 3)) (4.9.1)\n",
            "Requirement already satisfied: jupyterlab-pygments in /usr/local/lib/python3.7/dist-packages (from nbconvert>=6.4.4->jupyter-server~=1.16->jupyterlab->-r requirements.txt (line 3)) (0.2.2)\n",
            "Requirement already satisfied: nbclient>=0.5.0 in /usr/local/lib/python3.7/dist-packages (from nbconvert>=6.4.4->jupyter-server~=1.16->jupyterlab->-r requirements.txt (line 3)) (0.6.6)\n",
            "Requirement already satisfied: bleach in /usr/local/lib/python3.7/dist-packages (from nbconvert>=6.4.4->jupyter-server~=1.16->jupyterlab->-r requirements.txt (line 3)) (5.0.1)\n",
            "Requirement already satisfied: tinycss2 in /usr/local/lib/python3.7/dist-packages (from nbconvert>=6.4.4->jupyter-server~=1.16->jupyterlab->-r requirements.txt (line 3)) (1.1.1)\n",
            "Requirement already satisfied: defusedxml in /usr/local/lib/python3.7/dist-packages (from nbconvert>=6.4.4->jupyter-server~=1.16->jupyterlab->-r requirements.txt (line 3)) (0.7.1)\n",
            "Requirement already satisfied: pandocfilters>=1.4.1 in /usr/local/lib/python3.7/dist-packages (from nbconvert>=6.4.4->jupyter-server~=1.16->jupyterlab->-r requirements.txt (line 3)) (1.5.0)\n",
            "Requirement already satisfied: mistune<2,>=0.8.1 in /usr/local/lib/python3.7/dist-packages (from nbconvert>=6.4.4->jupyter-server~=1.16->jupyterlab->-r requirements.txt (line 3)) (0.8.4)\n",
            "Requirement already satisfied: beautifulsoup4 in /usr/local/lib/python3.7/dist-packages (from nbconvert>=6.4.4->jupyter-server~=1.16->jupyterlab->-r requirements.txt (line 3)) (4.6.3)\n",
            "Requirement already satisfied: fastjsonschema in /usr/local/lib/python3.7/dist-packages (from nbformat>=5.2.0->jupyter-server~=1.16->jupyterlab->-r requirements.txt (line 3)) (2.16.1)\n",
            "Requirement already satisfied: ipython-genutils in /usr/local/lib/python3.7/dist-packages (from notebook<7->jupyterlab->-r requirements.txt (line 3)) (0.2.0)\n",
            "Requirement already satisfied: ptyprocess in /usr/local/lib/python3.7/dist-packages (from terminado>=0.8.3->jupyter-server~=1.16->jupyterlab->-r requirements.txt (line 3)) (0.7.0)\n",
            "Requirement already satisfied: kiwisolver>=1.0.1 in /usr/local/lib/python3.7/dist-packages (from matplotlib->-r requirements.txt (line 4)) (1.4.4)\n",
            "Requirement already satisfied: cycler>=0.10 in /usr/local/lib/python3.7/dist-packages (from matplotlib->-r requirements.txt (line 4)) (0.11.0)\n",
            "Requirement already satisfied: pyparsing!=2.0.4,!=2.1.2,!=2.1.6,>=2.0.1 in /usr/local/lib/python3.7/dist-packages (from matplotlib->-r requirements.txt (line 4)) (3.0.9)\n",
            "Requirement already satisfied: argon2-cffi-bindings in /usr/local/lib/python3.7/dist-packages (from argon2-cffi->jupyter-server~=1.16->jupyterlab->-r requirements.txt (line 3)) (21.2.0)\n",
            "Requirement already satisfied: pytz>=2015.7 in /usr/local/lib/python3.7/dist-packages (from babel->jupyterlab-server~=2.10->jupyterlab->-r requirements.txt (line 3)) (2022.1)\n",
            "Requirement already satisfied: webencodings in /usr/local/lib/python3.7/dist-packages (from bleach->nbconvert>=6.4.4->jupyter-server~=1.16->jupyterlab->-r requirements.txt (line 3)) (0.5.1)\n",
            "Requirement already satisfied: certifi>=2017.4.17 in /usr/local/lib/python3.7/dist-packages (from requests->openfl==1.2.1->-r requirements.txt (line 1)) (2022.6.15)\n",
            "Requirement already satisfied: chardet<4,>=3.0.2 in /usr/local/lib/python3.7/dist-packages (from requests->openfl==1.2.1->-r requirements.txt (line 1)) (3.0.4)\n",
            "Requirement already satisfied: urllib3!=1.25.0,!=1.25.1,<1.26,>=1.21.1 in /usr/local/lib/python3.7/dist-packages (from requests->openfl==1.2.1->-r requirements.txt (line 1)) (1.24.3)\n",
            "Requirement already satisfied: decorator in /usr/local/lib/python3.7/dist-packages (from ipython->jupyterlab->-r requirements.txt (line 3)) (4.4.2)\n",
            "Requirement already satisfied: simplegeneric>0.8 in /usr/local/lib/python3.7/dist-packages (from ipython->jupyterlab->-r requirements.txt (line 3)) (0.8.1)\n",
            "Requirement already satisfied: prompt-toolkit<2.0.0,>=1.0.4 in /usr/local/lib/python3.7/dist-packages (from ipython->jupyterlab->-r requirements.txt (line 3)) (1.0.18)\n",
            "Requirement already satisfied: pexpect in /usr/local/lib/python3.7/dist-packages (from ipython->jupyterlab->-r requirements.txt (line 3)) (4.8.0)\n",
            "Requirement already satisfied: pickleshare in /usr/local/lib/python3.7/dist-packages (from ipython->jupyterlab->-r requirements.txt (line 3)) (0.7.5)\n",
            "Requirement already satisfied: wcwidth in /usr/local/lib/python3.7/dist-packages (from prompt-toolkit<2.0.0,>=1.0.4->ipython->jupyterlab->-r requirements.txt (line 3)) (0.2.5)\n",
            "Requirement already satisfied: jupyter-console in /usr/local/lib/python3.7/dist-packages (from jupyter->openfl==1.2.1->-r requirements.txt (line 1)) (5.2.0)\n",
            "Requirement already satisfied: ipywidgets in /usr/local/lib/python3.7/dist-packages (from jupyter->openfl==1.2.1->-r requirements.txt (line 1)) (7.7.1)\n",
            "Requirement already satisfied: qtconsole in /usr/local/lib/python3.7/dist-packages (from jupyter->openfl==1.2.1->-r requirements.txt (line 1)) (5.3.1)\n",
            "Requirement already satisfied: widgetsnbextension~=3.6.0 in /usr/local/lib/python3.7/dist-packages (from ipywidgets->jupyter->openfl==1.2.1->-r requirements.txt (line 1)) (3.6.1)\n",
            "Requirement already satisfied: jupyterlab-widgets>=1.0.0 in /usr/local/lib/python3.7/dist-packages (from ipywidgets->jupyter->openfl==1.2.1->-r requirements.txt (line 1)) (1.1.1)\n",
            "Requirement already satisfied: notebook-shim>=0.1.0 in /usr/local/lib/python3.7/dist-packages (from nbclassic->jupyterlab->-r requirements.txt (line 3)) (0.1.0)\n",
            "Requirement already satisfied: qtpy>=2.0.1 in /usr/local/lib/python3.7/dist-packages (from qtconsole->jupyter->openfl==1.2.1->-r requirements.txt (line 1)) (2.1.0)\n",
            "Requirement already satisfied: joblib>=0.11 in /usr/local/lib/python3.7/dist-packages (from scikit-learn->openfl==1.2.1->-r requirements.txt (line 1)) (1.1.0)\n",
            "Requirement already satisfied: scipy>=1.1.0 in /usr/local/lib/python3.7/dist-packages (from scikit-learn->openfl==1.2.1->-r requirements.txt (line 1)) (1.7.3)\n",
            "Requirement already satisfied: threadpoolctl>=2.0.0 in /usr/local/lib/python3.7/dist-packages (from scikit-learn->openfl==1.2.1->-r requirements.txt (line 1)) (3.1.0)\n",
            "Requirement already satisfied: absl-py>=0.4 in /usr/local/lib/python3.7/dist-packages (from tensorboard->openfl==1.2.1->-r requirements.txt (line 1)) (1.2.0)\n",
            "Requirement already satisfied: google-auth-oauthlib<0.5,>=0.4.1 in /usr/local/lib/python3.7/dist-packages (from tensorboard->openfl==1.2.1->-r requirements.txt (line 1)) (0.4.6)\n",
            "Requirement already satisfied: wheel>=0.26 in /usr/local/lib/python3.7/dist-packages (from tensorboard->openfl==1.2.1->-r requirements.txt (line 1)) (0.37.1)\n",
            "Requirement already satisfied: tensorboard-data-server<0.7.0,>=0.6.0 in /usr/local/lib/python3.7/dist-packages (from tensorboard->openfl==1.2.1->-r requirements.txt (line 1)) (0.6.1)\n",
            "Requirement already satisfied: markdown>=2.6.8 in /usr/local/lib/python3.7/dist-packages (from tensorboard->openfl==1.2.1->-r requirements.txt (line 1)) (3.4.1)\n",
            "Requirement already satisfied: tensorboard-plugin-wit>=1.6.0 in /usr/local/lib/python3.7/dist-packages (from tensorboard->openfl==1.2.1->-r requirements.txt (line 1)) (1.8.1)\n",
            "Requirement already satisfied: werkzeug>=0.11.15 in /usr/local/lib/python3.7/dist-packages (from tensorboard->openfl==1.2.1->-r requirements.txt (line 1)) (1.0.1)\n",
            "Requirement already satisfied: google-auth<3,>=1.6.3 in /usr/local/lib/python3.7/dist-packages (from tensorboard->openfl==1.2.1->-r requirements.txt (line 1)) (1.35.0)\n",
            "Requirement already satisfied: rsa<5,>=3.1.4 in /usr/local/lib/python3.7/dist-packages (from google-auth<3,>=1.6.3->tensorboard->openfl==1.2.1->-r requirements.txt (line 1)) (4.9)\n",
            "Requirement already satisfied: cachetools<5.0,>=2.0.0 in /usr/local/lib/python3.7/dist-packages (from google-auth<3,>=1.6.3->tensorboard->openfl==1.2.1->-r requirements.txt (line 1)) (4.2.4)\n",
            "Requirement already satisfied: pyasn1-modules>=0.2.1 in /usr/local/lib/python3.7/dist-packages (from google-auth<3,>=1.6.3->tensorboard->openfl==1.2.1->-r requirements.txt (line 1)) (0.2.8)\n",
            "Requirement already satisfied: requests-oauthlib>=0.7.0 in /usr/local/lib/python3.7/dist-packages (from google-auth-oauthlib<0.5,>=0.4.1->tensorboard->openfl==1.2.1->-r requirements.txt (line 1)) (1.3.1)\n",
            "Requirement already satisfied: pyasn1<0.5.0,>=0.4.6 in /usr/local/lib/python3.7/dist-packages (from pyasn1-modules>=0.2.1->google-auth<3,>=1.6.3->tensorboard->openfl==1.2.1->-r requirements.txt (line 1)) (0.4.8)\n",
            "Requirement already satisfied: oauthlib>=3.0.0 in /usr/local/lib/python3.7/dist-packages (from requests-oauthlib>=0.7.0->google-auth-oauthlib<0.5,>=0.4.1->tensorboard->openfl==1.2.1->-r requirements.txt (line 1)) (3.2.0)\n",
            "Installing collected packages: openfl\n",
            "  Attempting uninstall: openfl\n",
            "    Found existing installation: openfl 1.3\n",
            "    Uninstalling openfl-1.3:\n",
            "      Successfully uninstalled openfl-1.3\n",
            "Successfully installed openfl-1.2.1\n"
          ]
        }
      ]
    },
    {
      "cell_type": "code",
      "source": [
        "from typing import List, Union\n",
        "import numpy as np\n",
        "import random\n",
        "import matplotlib.pyplot as plt\n",
        "%matplotlib inline \n",
        "from matplotlib.pylab import rcParams \n",
        "rcParams['figure.figsize'] = 7,5\n",
        "\n",
        "# %matplotlib inline function allows for plots to be visible when using Jupyter Notebook.\n",
        "# Width 7 inches and height 5 inches of the graph."
      ],
      "metadata": {
        "id": "LT6MzgjlqCsA"
      },
      "execution_count": 4,
      "outputs": []
    },
    {
      "cell_type": "markdown",
      "source": [
        "# **Descibing a linear model and training it locally**"
      ],
      "metadata": {
        "id": "JnJ1L43rrkKE"
      }
    },
    {
      "cell_type": "markdown",
      "source": [
        "We are using MSE as loss function and Ridge weights regularization.\n",
        "![image.png](https://www.analyticsvidhya.com/wp-content/uploads/2016/01/eq5-1.png)"
      ],
      "metadata": {
        "id": "Oyw0TFrVrskR"
      }
    },
    {
      "cell_type": "markdown",
      "source": [
        "Weight regularization is being used as it penalizes the weight matrices of nodes. Weight regularization results in simpler linear network."
      ],
      "metadata": {
        "id": "4tIJRVvdsLnI"
      }
    },
    {
      "cell_type": "code",
      "source": [
        "class LinRegLasso:\n",
        "    def __init__(self, n_feat: int) -> None:\n",
        "        self.weights = np.ones((n_feat + 1)) # (n_feat + 1,) weights + bias\n",
        "        \n",
        "    def predict(self, feature_vector: Union[np.ndarray, List[int]]) -> float:\n",
        "\n",
        "      # feature_vector can be a list or have a shape (n_feat,). \n",
        "      #It may also have a bunch of vectors (n_vec,nfeat)\n",
        "\n",
        "        feature_vector = np.array(feature_vector)\n",
        "        if len(feature_vector.shape) == 1:\n",
        "            feature_vector = feature_vector[:,np.newaxis]\n",
        "        assert feature_vector.shape[-1] == self.weights.shape[0] - 1, \\\n",
        "            f\"sample shape is {feature_vector.shape} and weights shape is f{self.weights}\"\n",
        "        \n",
        "        return self.weights @ np.concatenate((feature_vector.T, [[1]*feature_vector.shape[0]]))\n",
        "    \n",
        "    def mse(self, X: np.ndarray, Y: np.ndarray) -> float:\n",
        "        Y_hat = self.predict(X)\n",
        "        return np.sum((Y - Y_hat)**2) / Y.shape[0]\n",
        "\n",
        "    def _update_weights(self, X: np.ndarray, Y: np.ndarray, lr: float, wd: float) -> None:\n",
        "        '''\n",
        "        X: (n_samples, n_features)\n",
        "        Y: (n_samples,)\n",
        "        self.weights: (n_features + 1)\n",
        "        \n",
        "        Cost function is MSE: (y - W*X - b)**2;\n",
        "        its derivative with resp to any x is -2*X*(y - W*X - b),\n",
        "        and with resp to b is -2*(y - W*X - b).\n",
        "        \n",
        "        Regularisation function is L1 |W|;\n",
        "        its derivative is SIGN(w)\n",
        "        '''\n",
        "        predictions = self.predict(X)\n",
        "        error = Y - predictions # (n_samples,)\n",
        "        X_with_bias = np.concatenate((X.T, [[1]*X.shape[0]])).T\n",
        "        updates = -2 * X_with_bias.T @ error / Y.shape[0]\n",
        "        regression_term = np.sign(self.weights)\n",
        "        \n",
        "        self.weights = self.weights - lr * updates + wd * regression_term\n",
        "    \n",
        "    def fit(self, X: np.ndarray, Y: np.ndarray,\n",
        "            n_epochs: int, lr: float, wd: float,\n",
        "            silent: bool=False) -> None:\n",
        "        for i in range(n_epochs):\n",
        "            self._update_weights(X, Y, lr, wd)\n",
        "            mse = self.mse(X, Y)\n",
        "            if not silent:\n",
        "                print(f'epoch: {i}, \\t MSE: {mse}')"
      ],
      "metadata": {
        "id": "Ss9Exor-qePF"
      },
      "execution_count": 5,
      "outputs": []
    },
    {
      "cell_type": "code",
      "source": [
        "''' The code is trying to predict the value of a feature vector. The code uses a function called predict \n",
        "which takes in an input feature vector and return a predicted value.\n",
        "\n",
        "The code creates an array with shape (n_feat) where n_feat is the number of features in the dataset.\n",
        "It uses np.newaxis to create a new axis for this array so that it has shape. It asserts that there are \n",
        "at least two dimension in this new axis.\n",
        "\n",
        "The code also tries to predict the outcome of a regression problem. For this it has an instance LinRegLasso\n",
        "with n_feat as the number of features in the dataset. A list is created that contains all the weights and \n",
        "biases for the model and the prediction is done using the feature vector provided.\n",
        "\n",
        "The code is then calculating the mean squared error between the predicted value and the actual value. For \n",
        "this the code takes two input parameters X and Y and then return the mean squared error betweent he predicted\n",
        "output of X and the actual output of Y. The code is also defining an array with shape[n_feautres, 1] where\n",
        "n_features is the number of features used in the predicting X.\n",
        "\n",
        "'''"
      ],
      "metadata": {
        "id": "VOs2v3XLu60m"
      },
      "execution_count": null,
      "outputs": []
    },
    {
      "cell_type": "code",
      "source": [
        "# Define input array with angles from 60deg to 300deg converted to radians\n",
        "x = np.array([i*np.pi/180 for i in range(60,300,4)])\n",
        "np.random.seed(10)  # Setting seed for reproducibility\n",
        "y = np.sin(x) + np.random.normal(0,0.15,len(x))\n",
        "plt.plot(x,y,'.')\n",
        "\n",
        "#in np.random.noraml they have considered noise to be 0.15"
      ],
      "metadata": {
        "colab": {
          "base_uri": "https://localhost:8080/",
          "height": 337
        },
        "id": "GEbGa69Z5Arb",
        "outputId": "0356d946-1ca4-4ecb-a139-65fbbbb63c2d"
      },
      "execution_count": 26,
      "outputs": [
        {
          "output_type": "execute_result",
          "data": {
            "text/plain": [
              "[<matplotlib.lines.Line2D at 0x7f2ae29b7250>]"
            ]
          },
          "metadata": {},
          "execution_count": 26
        },
        {
          "output_type": "display_data",
          "data": {
            "text/plain": [
              "<Figure size 504x360 with 1 Axes>"
            ],
            "image/png": "[encoded data removed]"
          },
          "metadata": {
            "needs_background": "light"
          }
        }
      ]
    },
    {
      "cell_type": "code",
      "source": [
        "lr_model = LinRegLasso(1)\n",
        "wd = 0.0001\n",
        "lr = 0.08\n",
        "epochs = 100\n",
        "\n",
        "print(f\"Initial MSE: {lr_model.mse(x,y)}\")\n",
        "lr_model.fit(x[:,np.newaxis],y, epochs, lr, wd, silent=True)\n",
        "print(f\"Final MSE: {lr_model.mse(x,y)}\")\n",
        "print(f\"Final parameters: {lr_model.weights}\")"
      ],
      "metadata": {
        "colab": {
          "base_uri": "https://localhost:8080/"
        },
        "id": "8k_Uk7Lj7BYc",
        "outputId": "163fc16c-73ce-4e29-a024-5eb876015623"
      },
      "execution_count": 9,
      "outputs": [
        {
          "output_type": "stream",
          "name": "stdout",
          "text": [
            "Initial MSE: 20.442839563960476\n",
            "Final MSE: 0.05885962951284364\n",
            "Final parameters: [-0.56894409  1.784573  ]\n"
          ]
        }
      ]
    },
    {
      "cell_type": "code",
      "source": [
        "''' The code starts by creating a liner regression model. The code fits/trains the linear regression model\n",
        "using 100 epochs, which is equivalent to 10,000 iterations in this case. It also uses a learning rate of 0.08\n",
        "and an initial weighting paramerter of 1 for each feature 'x'.\n",
        "\n",
        "'''"
      ],
      "metadata": {
        "id": "mvtQ9gUauLqY"
      },
      "execution_count": null,
      "outputs": []
    },
    {
      "cell_type": "code",
      "source": [
        "# We can also solve this 1D problem using Numpy\n",
        "numpy_solution = np.polyfit(x,y,1)\n",
        "predictor_np = np.poly1d(numpy_solution)\n",
        "numpy_solution"
      ],
      "metadata": {
        "colab": {
          "base_uri": "https://localhost:8080/"
        },
        "id": "se3doIssqe_B",
        "outputId": "702d186b-634e-4557-9708-4c1dde8347cb"
      },
      "execution_count": 27,
      "outputs": [
        {
          "output_type": "execute_result",
          "data": {
            "text/plain": [
              "array([-0.61957457,  1.9628557 ])"
            ]
          },
          "metadata": {},
          "execution_count": 27
        }
      ]
    },
    {
      "cell_type": "code",
      "source": [
        "y_hat = lr_model.predict(x)\n",
        "y_np = predictor_np(x)\n",
        "plt.plot(x,y,'.')\n",
        "plt.plot(x,y_hat,'.')\n",
        "plt.plot(x,y_np,'--')"
      ],
      "metadata": {
        "colab": {
          "base_uri": "https://localhost:8080/",
          "height": 337
        },
        "id": "YvkWP0Tcq3tx",
        "outputId": "8c69b2f4-1c7d-4e15-bfd8-a463cb4b7fb0"
      },
      "execution_count": 11,
      "outputs": [
        {
          "output_type": "execute_result",
          "data": {
            "text/plain": [
              "[<matplotlib.lines.Line2D at 0x7f2af22b5110>]"
            ]
          },
          "metadata": {},
          "execution_count": 11
        },
        {
          "output_type": "display_data",
          "data": {
            "text/plain": [
              "<Figure size 504x360 with 1 Axes>"
            ],
            "image/png": "[encoded data removed]"
          },
          "metadata": {
            "needs_background": "light"
          }
        }
      ]
    },
    {
      "cell_type": "markdown",
      "source": [
        "# **Running the same training on federated data**"
      ],
      "metadata": {
        "id": "qBY7gFCUq-ae"
      }
    },
    {
      "cell_type": "markdown",
      "source": [
        "Start the Director service and several envoys with generated data\n"
      ],
      "metadata": {
        "id": "1qdPOCAnrQdb"
      }
    },
    {
      "cell_type": "code",
      "source": [
        "# Here are the main parameters for our Federation\n",
        "n_cols=10 # Number of Envoys / Collaborators\n",
        "n_samples_per_col=10\n",
        "noise=0.15"
      ],
      "metadata": {
        "id": "DVDI6wD4q6GF"
      },
      "execution_count": 17,
      "outputs": []
    },
    {
      "cell_type": "code",
      "source": [
        "import os\n",
        "from pathlib import Path\n",
        "import yaml\n",
        "from typing import Dict, List, Union"
      ],
      "metadata": {
        "id": "kA5UotIArrDf"
      },
      "execution_count": 18,
      "outputs": []
    },
    {
      "cell_type": "markdown",
      "source": [
        "Start the Director Service"
      ],
      "metadata": {
        "id": "qutyiM46sBgk"
      }
    },
    {
      "cell_type": "code",
      "source": [
        "cwd = Path.cwd()\n",
        "director_workspace_path = Path('../director/').absolute()\n",
        "director_config_file = director_workspace_path / 'director_config.yaml'\n",
        "director_logfile = director_workspace_path / 'director.log'\n",
        "if director_logfile.is_file(): director_logfile.unlink()\n",
        "\n",
        "os.environ['main_folder'] = str(cwd)\n",
        "os.environ['director_workspace_path'] = str(director_workspace_path)\n",
        "os.environ['director_logfile'] = str(director_logfile)\n",
        "os.environ['director_config_file'] = str(director_config_file)"
      ],
      "metadata": {
        "id": "A40kzYapr0b4"
      },
      "execution_count": 19,
      "outputs": []
    },
    {
      "cell_type": "code",
      "source": [
        "%%script /bin/bash --bg\n",
        "cd $director_workspace_path\n",
        "fx director start --disable-tls -c $director_config_file > $director_logfile &\n",
        "cd $main_folder"
      ],
      "metadata": {
        "colab": {
          "base_uri": "https://localhost:8080/"
        },
        "id": "yHhUnq_gsEv0",
        "outputId": "b855c264-26f0-464e-afbb-3d651f2af6aa"
      },
      "execution_count": 20,
      "outputs": [
        {
          "output_type": "stream",
          "name": "stdout",
          "text": [
            "Starting job # 2 in a separate thread.\n"
          ]
        }
      ]
    },
    {
      "cell_type": "markdown",
      "source": [
        "# **Start Envoys**"
      ],
      "metadata": {
        "id": "0gWRkvXxsRar"
      }
    },
    {
      "cell_type": "markdown",
      "source": [
        "First, we create several envou config files"
      ],
      "metadata": {
        "id": "_37X72EAsV_q"
      }
    },
    {
      "cell_type": "code",
      "source": [
        "# Read the original envoy config file content\n",
        "with open(Path('../envoy/envoy_config.yaml'), \"r\") as stream:\n",
        "    orig_config = yaml.safe_load(stream)\n",
        "\n",
        "def generate_envoy_configs(config: Dict,\n",
        "                           save_path: Union[str, Path] = '../envoy/',\n",
        "                           n_cols: int = 10,\n",
        "                           n_samples_per_col: int = 10,\n",
        "                           noise: float = 0.15) -> List[Path]:\n",
        "\n",
        "    config['shard_descriptor']['params']['n_samples'] = n_samples_per_col\n",
        "    config['shard_descriptor']['params']['noise'] = noise\n",
        "    \n",
        "    config_paths = [(Path(save_path) / f'{i}_envoy_config.yaml').absolute()\n",
        "                for i in range(1, n_cols + 1)]\n",
        "\n",
        "    for i, path in enumerate(config_paths):\n",
        "        config['shard_descriptor']['params']['rank'] = i\n",
        "        with open(path, \"w\") as stream:\n",
        "            yaml.safe_dump(config, stream)\n",
        "            \n",
        "    return config_paths\n",
        "            \n",
        "def remove_configs(config_paths):\n",
        "    for path in config_paths:\n",
        "        path.unlink()"
      ],
      "metadata": {
        "id": "mEV97v61sGh1"
      },
      "execution_count": 21,
      "outputs": []
    },
    {
      "cell_type": "code",
      "source": [
        "config_paths = generate_envoy_configs(orig_config,\n",
        "                                      n_cols=n_cols,\n",
        "                                      n_samples_per_col=n_samples_per_col,\n",
        "                                      noise=noise)\n",
        "# remove_configs(config_paths)"
      ],
      "metadata": {
        "id": "_K6x1cYzsjH5"
      },
      "execution_count": 22,
      "outputs": []
    },
    {
      "cell_type": "markdown",
      "source": [
        "Starting the Envoy processes in a loop"
      ],
      "metadata": {
        "id": "YhW8jXNtsmzp"
      }
    },
    {
      "cell_type": "code",
      "source": [
        "# envoy_workspace_path = Path('../envoy/').absolute()\n",
        "def start_envoys(config_paths: List[Path]) -> None:\n",
        "    envoy_workspace_path = config_paths[0].parent\n",
        "    cwd = Path.cwd()\n",
        "    os.chdir(envoy_workspace_path)\n",
        "    for i, path in enumerate(config_paths):\n",
        "        os.system(f'fx envoy start -n env_{i + 1} --disable-tls '\n",
        "                  f'--envoy-config-path {path} -dh localhost -dp 50049 '\n",
        "                  f'>env_{i + 1}.log &')\n",
        "    os.chdir(cwd)\n",
        "\n",
        "sleep(5)\n",
        "\n",
        "start_envoys(config_paths)\n",
        "\n",
        "sleep(25)"
      ],
      "metadata": {
        "id": "7cC61sBNsl3Q"
      },
      "execution_count": 23,
      "outputs": []
    },
    {
      "cell_type": "markdown",
      "source": [
        "# **Connect to the Director service of out Federation as Data Scientist.**"
      ],
      "metadata": {
        "id": "1J1OfP78s0Pa"
      }
    },
    {
      "cell_type": "code",
      "source": [
        "# Create a federation\n",
        "from openfl.interface.interactive_api.federation import Federation\n",
        "\n",
        "# please use the same identificator that was used in signed certificate\n",
        "client_id = 'frontend'\n",
        "director_node_fqdn = 'localhost'\n",
        "director_port = 50049\n",
        "\n",
        "federation = Federation(\n",
        "    client_id=client_id,\n",
        "    director_node_fqdn=director_node_fqdn,\n",
        "    director_port=director_port,\n",
        "    tls=False\n",
        ")"
      ],
      "metadata": {
        "id": "XhnC2Nkxst06"
      },
      "execution_count": 24,
      "outputs": []
    },
    {
      "cell_type": "code",
      "source": [
        "# Data scientist may request a list of connected envoys\n",
        "shard_registry = federation.get_shard_registry()\n",
        "\n",
        "# WARNING!\n",
        "\n",
        "# Make sure shard registry contains all the envoys you started!\n",
        "# In other case try to run this cell again or reconnect to the Director (the cell above).\n",
        "shard_registry"
      ],
      "metadata": {
        "colab": {
          "base_uri": "https://localhost:8080/"
        },
        "id": "OFYFO3pvs_dC",
        "outputId": "a81b97f8-5734-4bc8-8683-eb38b02242a2"
      },
      "execution_count": 28,
      "outputs": [
        {
          "output_type": "execute_result",
          "data": {
            "text/plain": [
              "{'env_10': {'current_time': '2022-08-12 16:33:55',\n",
              "  'experiment_name': 'ExperimentName Mock',\n",
              "  'is_experiment_running': False,\n",
              "  'is_online': True,\n",
              "  'last_updated': '2022-08-12 16:33:53',\n",
              "  'shard_info': node_info {\n",
              "    name: \"env_10\"\n",
              "  }\n",
              "  shard_description: \"Allowed dataset types are `train` and `val`\"\n",
              "  sample_shape: \"1\"\n",
              "  target_shape: \"1\",\n",
              "  'valid_duration': seconds: 10},\n",
              " 'env_3': {'current_time': '2022-08-12 16:33:55',\n",
              "  'experiment_name': 'ExperimentName Mock',\n",
              "  'is_experiment_running': False,\n",
              "  'is_online': True,\n",
              "  'last_updated': '2022-08-12 16:33:53',\n",
              "  'shard_info': node_info {\n",
              "    name: \"env_3\"\n",
              "  }\n",
              "  shard_description: \"Allowed dataset types are `train` and `val`\"\n",
              "  sample_shape: \"1\"\n",
              "  target_shape: \"1\",\n",
              "  'valid_duration': seconds: 10},\n",
              " 'env_4': {'current_time': '2022-08-12 16:33:55',\n",
              "  'experiment_name': 'ExperimentName Mock',\n",
              "  'is_experiment_running': False,\n",
              "  'is_online': True,\n",
              "  'last_updated': '2022-08-12 16:33:53',\n",
              "  'shard_info': node_info {\n",
              "    name: \"env_4\"\n",
              "  }\n",
              "  shard_description: \"Allowed dataset types are `train` and `val`\"\n",
              "  sample_shape: \"1\"\n",
              "  target_shape: \"1\",\n",
              "  'valid_duration': seconds: 10},\n",
              " 'env_7': {'current_time': '2022-08-12 16:33:55',\n",
              "  'experiment_name': 'ExperimentName Mock',\n",
              "  'is_experiment_running': False,\n",
              "  'is_online': True,\n",
              "  'last_updated': '2022-08-12 16:33:53',\n",
              "  'shard_info': node_info {\n",
              "    name: \"env_7\"\n",
              "  }\n",
              "  shard_description: \"Allowed dataset types are `train` and `val`\"\n",
              "  sample_shape: \"1\"\n",
              "  target_shape: \"1\",\n",
              "  'valid_duration': seconds: 10}}"
            ]
          },
          "metadata": {},
          "execution_count": 28
        }
      ]
    },
    {
      "cell_type": "markdown",
      "source": [
        "**Code**"
      ],
      "metadata": {
        "id": "z6T0h0vD6Dy1"
      }
    },
    {
      "cell_type": "code",
      "source": [
        "from openfl.interface.interactive_api.experiment import TaskInterface, DataInterface, ModelInterface, FLExperiment\n",
        "\n",
        "class LinRegDataSet(DataInterface):\n",
        "    def __init__(self, **kwargs):\n",
        "        \"\"\"Initialize DataLoader.\"\"\"\n",
        "        self.kwargs = kwargs\n",
        "        pass\n",
        "\n",
        "    @property\n",
        "    def shard_descriptor(self):\n",
        "        \"\"\"Return shard descriptor.\"\"\"\n",
        "        return self._shard_descriptor\n",
        "    \n",
        "    @shard_descriptor.setter\n",
        "    def shard_descriptor(self, shard_descriptor):\n",
        "        \"\"\"\n",
        "        Describe per-collaborator procedures or sharding.\n",
        "\n",
        "        This method will be called during a collaborator initialization.\n",
        "        Local shard_descriptor  will be set by Envoy.\n",
        "        \"\"\"\n",
        "        self._shard_descriptor = shard_descriptor\n",
        "        self.train_set = shard_descriptor.get_dataset(\"train\")\n",
        "        self.val_set = shard_descriptor.get_dataset(\"val\")\n",
        "\n",
        "    def get_train_loader(self, **kwargs):\n",
        "        \"\"\"Output of this method will be provided to tasks with optimizer in contract.\"\"\"\n",
        "        return self.train_set\n",
        "\n",
        "    def get_valid_loader(self, **kwargs):\n",
        "        \"\"\"Output of this method will be provided to tasks without optimizer in contract.\"\"\"\n",
        "        return self.val_set\n",
        "\n",
        "    def get_train_data_size(self):\n",
        "        \"\"\"Information for aggregation.\"\"\"\n",
        "        return len(self.train_set)\n",
        "\n",
        "    def get_valid_data_size(self):\n",
        "        \"\"\"Information for aggregation.\"\"\"\n",
        "        return len(self.val_set)\n",
        "    \n",
        "lin_reg_dataset = LinRegDataSet()"
      ],
      "metadata": {
        "id": "rggzp-sX57fh"
      },
      "execution_count": 29,
      "outputs": []
    },
    {
      "cell_type": "markdown",
      "source": [
        "**Model**\n"
      ],
      "metadata": {
        "id": "zEwJD8QM6RS6"
      }
    },
    {
      "cell_type": "code",
      "source": [
        "# You can inspect the framework adapter used in this example.\n",
        "# It is a plug-in component allowing OpenFL to manage model parameters.\n",
        "framework_adapter = 'custom_adapter.CustomFrameworkAdapter'\n",
        "fed_model = LinRegLasso(1)\n",
        "MI = ModelInterface(model=fed_model, optimizer=None, framework_plugin=framework_adapter)\n",
        "\n",
        "# Save the initial model state\n",
        "initial_model = LinRegLasso(1)"
      ],
      "metadata": {
        "id": "4SG2nib86HOF"
      },
      "execution_count": 30,
      "outputs": []
    },
    {
      "cell_type": "markdown",
      "source": [
        "**Tasks**"
      ],
      "metadata": {
        "id": "YAdBSvmM6cHh"
      }
    },
    {
      "cell_type": "markdown",
      "source": [
        "Using an Optimizer does not make sense for this experiment. Yet it is a required part of a training task contract in the current version of OpenFL, so we just pass None. We need to employ a trick reporting metrics. OpenFL decides which model is the best based on an increasing metric"
      ],
      "metadata": {
        "id": "9xEOE_4l6hpz"
      }
    },
    {
      "cell_type": "code",
      "source": [
        "TI = TaskInterface()\n",
        "\n",
        "@TI.add_kwargs(**{'lr': 0.001,\n",
        "                   'wd': 0.0001,\n",
        "                   'epoches': 1})\n",
        "@TI.register_fl_task(model='my_model', data_loader='train_data', \\\n",
        "                     device='device', optimizer='optimizer')     \n",
        "def train(my_model, train_data, optimizer, device, lr, wd, epoches):\n",
        "    X, Y = train_data[:,:-1], train_data[:,-1]\n",
        "    my_model.fit(X, Y, epochs, lr, wd, silent=True)\n",
        "    return {'train_MSE': my_model.mse(X, Y),}\n",
        "\n",
        "@TI.register_fl_task(model='my_model', data_loader='val_data', device='device')     \n",
        "def validate(my_model, val_data, device):\n",
        "    X, Y = val_data[:,:-1], val_data[:,-1]        \n",
        "    return {'validation_MSE': my_model.mse(X, Y),}"
      ],
      "metadata": {
        "id": "6ruHbYEV6hIX"
      },
      "execution_count": 31,
      "outputs": []
    },
    {
      "cell_type": "markdown",
      "source": [
        "**Run**"
      ],
      "metadata": {
        "id": "SuLr9W0K6l8m"
      }
    },
    {
      "cell_type": "code",
      "source": [
        "experiment_name = 'linear_regression_experiment'\n",
        "fl_experiment = FLExperiment(federation=federation, experiment_name=experiment_name,\n",
        "                            )"
      ],
      "metadata": {
        "id": "N-5apbBG6YBa"
      },
      "execution_count": 32,
      "outputs": []
    },
    {
      "cell_type": "code",
      "source": [
        "fl_experiment.start(model_provider=MI, \n",
        "                    task_keeper=TI,\n",
        "                    data_loader=lin_reg_dataset,\n",
        "                    rounds_to_train=10,)"
      ],
      "metadata": {
        "colab": {
          "base_uri": "https://localhost:8080/"
        },
        "id": "H9bPexjm6pjn",
        "outputId": "14093d5f-8927-479b-8f3a-daa777a67f44"
      },
      "execution_count": 33,
      "outputs": [
        {
          "output_type": "stream",
          "name": "stderr",
          "text": [
            "WARNING:openfl.federated.task.task_runner:tried to remove tensor: __opt_state_needed not present in the tensor dict\n",
            "WARNING:openfl.interface.interactive_api.experiment:tried to remove tensor: __opt_state_needed not present in the tensor dict\n"
          ]
        }
      ]
    }
  ]
}